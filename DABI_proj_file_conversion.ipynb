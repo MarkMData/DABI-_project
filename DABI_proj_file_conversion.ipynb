{
  "cells": [
    {
      "cell_type": "code",
      "execution_count": 8,
      "metadata": {
        "id": "qWAEUPPxE2RO"
      },
      "outputs": [],
      "source": [
        "import json\n",
        "import requests\n",
        "import pandas as pd\n",
        "import numpy as np\n",
        "import matplotlib as plt\n",
        "import seaborn as sns"
      ]
    },
    {
      "cell_type": "code",
      "source": [
        "!wget https://raw.githubusercontent.com/MarkMData/DABI_project/main/portfolio.json"
      ],
      "metadata": {
        "id": "0boxwnp5J80A"
      },
      "execution_count": null,
      "outputs": []
    },
    {
      "cell_type": "markdown",
      "metadata": {
        "id": "oerDGhCPE2RP"
      },
      "source": [
        "read in the portfolio json file"
      ]
    },
    {
      "cell_type": "code",
      "execution_count": 30,
      "metadata": {
        "id": "3QvKNW70E2RQ"
      },
      "outputs": [],
      "source": [
        "portfolio = []\n",
        "with open('portfolio.json') as f:\n",
        "    for line in f:\n",
        "        portfolio.append(json.loads(line))"
      ]
    },
    {
      "cell_type": "code",
      "execution_count": 31,
      "metadata": {
        "colab": {
          "base_uri": "https://localhost:8080/"
        },
        "id": "eh_8P60wE2RR",
        "outputId": "73da286c-3a15-40b2-cac3-5964efdd4d5c"
      },
      "outputs": [
        {
          "output_type": "stream",
          "name": "stdout",
          "text": [
            "<class 'list'>\n",
            "10\n"
          ]
        }
      ],
      "source": [
        "print(type(portfolio))\n",
        "print(len(portfolio))"
      ]
    },
    {
      "cell_type": "code",
      "execution_count": 32,
      "metadata": {
        "colab": {
          "base_uri": "https://localhost:8080/"
        },
        "id": "vCI8PbZhE2RS",
        "outputId": "c9b467a5-df86-44ef-956d-ecc957bc60b3"
      },
      "outputs": [
        {
          "output_type": "execute_result",
          "data": {
            "text/plain": [
              "dict_items([('reward', 5), ('channels', ['web', 'email']), ('difficulty', 20), ('duration', 10.0), ('offer_type', 'discount'), ('id', '0b1e1539f2cc45b7b9fa7c272da2e1d7')])"
            ]
          },
          "metadata": {},
          "execution_count": 32
        }
      ],
      "source": [
        "portfolio[4].items()"
      ]
    },
    {
      "cell_type": "markdown",
      "source": [
        "Make columns from portfolio data to be put in a dataset"
      ],
      "metadata": {
        "id": "6DwGmCF-Mzaf"
      }
    },
    {
      "cell_type": "code",
      "execution_count": 33,
      "metadata": {
        "id": "VTyTzabqE2RT"
      },
      "outputs": [],
      "source": [
        "reward = [p[\"reward\"] for p in portfolio]\n",
        "difficulty = [p[\"difficulty\"] for p in portfolio]\n",
        "duration = [p[\"duration\"] for p in portfolio]\n",
        "offer_type = [p[\"offer_type\"] for p in portfolio]\n",
        "id = [p[\"id\"] for p in portfolio]\n",
        "channels_list=[p[\"channels\"] for p in portfolio]"
      ]
    },
    {
      "cell_type": "markdown",
      "source": [
        "Check all type of channels"
      ],
      "metadata": {
        "id": "n_gSLGlSTCTT"
      }
    },
    {
      "cell_type": "code",
      "source": [
        "channels =[]\n",
        "for p in portfolio:\n",
        "    for lst in (p[\"channels\"]):\n",
        "        channels.append(lst)\n",
        "channels=set(channels)"
      ],
      "metadata": {
        "id": "vgr49qvXTDCq"
      },
      "execution_count": 65,
      "outputs": []
    },
    {
      "cell_type": "code",
      "source": [
        "portfolio_df = pd.DataFrame({\n",
        "    'reward': reward,\n",
        "    'difficulty':difficulty,\n",
        "    'duration':duration,\n",
        "    'offer_type':offer_type,\n",
        "    'id':id,\n",
        "    'channels':channels_list\n",
        "})"
      ],
      "metadata": {
        "id": "H6MMDLp5NSwN"
      },
      "execution_count": 46,
      "outputs": []
    },
    {
      "cell_type": "code",
      "source": [
        "portfolio_df"
      ],
      "metadata": {
        "colab": {
          "base_uri": "https://localhost:8080/",
          "height": 362
        },
        "id": "D_pbW_X0OrKz",
        "outputId": "49a5d740-9984-4ed7-c792-53ee57e6b421"
      },
      "execution_count": 47,
      "outputs": [
        {
          "output_type": "execute_result",
          "data": {
            "text/plain": [
              "   reward  difficulty  duration     offer_type  \\\n",
              "0      10          10       7.0           bogo   \n",
              "1      10          10       5.0           bogo   \n",
              "2       0           0       4.0  informational   \n",
              "3       5           5       7.0           bogo   \n",
              "4       5          20      10.0       discount   \n",
              "5       3           7       7.0       discount   \n",
              "6       2          10      10.0       discount   \n",
              "7       0           0       3.0  informational   \n",
              "8       5           5       5.0           bogo   \n",
              "9       2          10       7.0       discount   \n",
              "\n",
              "                                 id                      channels  \n",
              "0  ae264e3637204a6fb9bb56bc8210ddfd       [email, mobile, social]  \n",
              "1  4d5c57ea9a6940dd891ad53e9dbe8da0  [web, email, mobile, social]  \n",
              "2  3f207df678b143eea3cee63160fa8bed          [web, email, mobile]  \n",
              "3  9b98b8c7a33c4b65b9aebfe6a799e6d9          [web, email, mobile]  \n",
              "4  0b1e1539f2cc45b7b9fa7c272da2e1d7                  [web, email]  \n",
              "5  2298d6c36e964ae4a3e7e9706d1fb8c2  [web, email, mobile, social]  \n",
              "6  fafdcd668e3743c1bb461111dcafc2a4  [web, email, mobile, social]  \n",
              "7  5a8bc65990b245e5a138643cd4eb9837       [email, mobile, social]  \n",
              "8  f19421c1d4aa40978ebb69ca19b0e20d  [web, email, mobile, social]  \n",
              "9  2906b810c7d4411798c6938adc9daaa5          [web, email, mobile]  "
            ],
            "text/html": [
              "\n",
              "  <div id=\"df-772796e2-3904-4fec-9f9f-e943f815fb5e\" class=\"colab-df-container\">\n",
              "    <div>\n",
              "<style scoped>\n",
              "    .dataframe tbody tr th:only-of-type {\n",
              "        vertical-align: middle;\n",
              "    }\n",
              "\n",
              "    .dataframe tbody tr th {\n",
              "        vertical-align: top;\n",
              "    }\n",
              "\n",
              "    .dataframe thead th {\n",
              "        text-align: right;\n",
              "    }\n",
              "</style>\n",
              "<table border=\"1\" class=\"dataframe\">\n",
              "  <thead>\n",
              "    <tr style=\"text-align: right;\">\n",
              "      <th></th>\n",
              "      <th>reward</th>\n",
              "      <th>difficulty</th>\n",
              "      <th>duration</th>\n",
              "      <th>offer_type</th>\n",
              "      <th>id</th>\n",
              "      <th>channels</th>\n",
              "    </tr>\n",
              "  </thead>\n",
              "  <tbody>\n",
              "    <tr>\n",
              "      <th>0</th>\n",
              "      <td>10</td>\n",
              "      <td>10</td>\n",
              "      <td>7.0</td>\n",
              "      <td>bogo</td>\n",
              "      <td>ae264e3637204a6fb9bb56bc8210ddfd</td>\n",
              "      <td>[email, mobile, social]</td>\n",
              "    </tr>\n",
              "    <tr>\n",
              "      <th>1</th>\n",
              "      <td>10</td>\n",
              "      <td>10</td>\n",
              "      <td>5.0</td>\n",
              "      <td>bogo</td>\n",
              "      <td>4d5c57ea9a6940dd891ad53e9dbe8da0</td>\n",
              "      <td>[web, email, mobile, social]</td>\n",
              "    </tr>\n",
              "    <tr>\n",
              "      <th>2</th>\n",
              "      <td>0</td>\n",
              "      <td>0</td>\n",
              "      <td>4.0</td>\n",
              "      <td>informational</td>\n",
              "      <td>3f207df678b143eea3cee63160fa8bed</td>\n",
              "      <td>[web, email, mobile]</td>\n",
              "    </tr>\n",
              "    <tr>\n",
              "      <th>3</th>\n",
              "      <td>5</td>\n",
              "      <td>5</td>\n",
              "      <td>7.0</td>\n",
              "      <td>bogo</td>\n",
              "      <td>9b98b8c7a33c4b65b9aebfe6a799e6d9</td>\n",
              "      <td>[web, email, mobile]</td>\n",
              "    </tr>\n",
              "    <tr>\n",
              "      <th>4</th>\n",
              "      <td>5</td>\n",
              "      <td>20</td>\n",
              "      <td>10.0</td>\n",
              "      <td>discount</td>\n",
              "      <td>0b1e1539f2cc45b7b9fa7c272da2e1d7</td>\n",
              "      <td>[web, email]</td>\n",
              "    </tr>\n",
              "    <tr>\n",
              "      <th>5</th>\n",
              "      <td>3</td>\n",
              "      <td>7</td>\n",
              "      <td>7.0</td>\n",
              "      <td>discount</td>\n",
              "      <td>2298d6c36e964ae4a3e7e9706d1fb8c2</td>\n",
              "      <td>[web, email, mobile, social]</td>\n",
              "    </tr>\n",
              "    <tr>\n",
              "      <th>6</th>\n",
              "      <td>2</td>\n",
              "      <td>10</td>\n",
              "      <td>10.0</td>\n",
              "      <td>discount</td>\n",
              "      <td>fafdcd668e3743c1bb461111dcafc2a4</td>\n",
              "      <td>[web, email, mobile, social]</td>\n",
              "    </tr>\n",
              "    <tr>\n",
              "      <th>7</th>\n",
              "      <td>0</td>\n",
              "      <td>0</td>\n",
              "      <td>3.0</td>\n",
              "      <td>informational</td>\n",
              "      <td>5a8bc65990b245e5a138643cd4eb9837</td>\n",
              "      <td>[email, mobile, social]</td>\n",
              "    </tr>\n",
              "    <tr>\n",
              "      <th>8</th>\n",
              "      <td>5</td>\n",
              "      <td>5</td>\n",
              "      <td>5.0</td>\n",
              "      <td>bogo</td>\n",
              "      <td>f19421c1d4aa40978ebb69ca19b0e20d</td>\n",
              "      <td>[web, email, mobile, social]</td>\n",
              "    </tr>\n",
              "    <tr>\n",
              "      <th>9</th>\n",
              "      <td>2</td>\n",
              "      <td>10</td>\n",
              "      <td>7.0</td>\n",
              "      <td>discount</td>\n",
              "      <td>2906b810c7d4411798c6938adc9daaa5</td>\n",
              "      <td>[web, email, mobile]</td>\n",
              "    </tr>\n",
              "  </tbody>\n",
              "</table>\n",
              "</div>\n",
              "    <div class=\"colab-df-buttons\">\n",
              "\n",
              "  <div class=\"colab-df-container\">\n",
              "    <button class=\"colab-df-convert\" onclick=\"convertToInteractive('df-772796e2-3904-4fec-9f9f-e943f815fb5e')\"\n",
              "            title=\"Convert this dataframe to an interactive table.\"\n",
              "            style=\"display:none;\">\n",
              "\n",
              "  <svg xmlns=\"http://www.w3.org/2000/svg\" height=\"24px\" viewBox=\"0 -960 960 960\">\n",
              "    <path d=\"M120-120v-720h720v720H120Zm60-500h600v-160H180v160Zm220 220h160v-160H400v160Zm0 220h160v-160H400v160ZM180-400h160v-160H180v160Zm440 0h160v-160H620v160ZM180-180h160v-160H180v160Zm440 0h160v-160H620v160Z\"/>\n",
              "  </svg>\n",
              "    </button>\n",
              "\n",
              "  <style>\n",
              "    .colab-df-container {\n",
              "      display:flex;\n",
              "      gap: 12px;\n",
              "    }\n",
              "\n",
              "    .colab-df-convert {\n",
              "      background-color: #E8F0FE;\n",
              "      border: none;\n",
              "      border-radius: 50%;\n",
              "      cursor: pointer;\n",
              "      display: none;\n",
              "      fill: #1967D2;\n",
              "      height: 32px;\n",
              "      padding: 0 0 0 0;\n",
              "      width: 32px;\n",
              "    }\n",
              "\n",
              "    .colab-df-convert:hover {\n",
              "      background-color: #E2EBFA;\n",
              "      box-shadow: 0px 1px 2px rgba(60, 64, 67, 0.3), 0px 1px 3px 1px rgba(60, 64, 67, 0.15);\n",
              "      fill: #174EA6;\n",
              "    }\n",
              "\n",
              "    .colab-df-buttons div {\n",
              "      margin-bottom: 4px;\n",
              "    }\n",
              "\n",
              "    [theme=dark] .colab-df-convert {\n",
              "      background-color: #3B4455;\n",
              "      fill: #D2E3FC;\n",
              "    }\n",
              "\n",
              "    [theme=dark] .colab-df-convert:hover {\n",
              "      background-color: #434B5C;\n",
              "      box-shadow: 0px 1px 3px 1px rgba(0, 0, 0, 0.15);\n",
              "      filter: drop-shadow(0px 1px 2px rgba(0, 0, 0, 0.3));\n",
              "      fill: #FFFFFF;\n",
              "    }\n",
              "  </style>\n",
              "\n",
              "    <script>\n",
              "      const buttonEl =\n",
              "        document.querySelector('#df-772796e2-3904-4fec-9f9f-e943f815fb5e button.colab-df-convert');\n",
              "      buttonEl.style.display =\n",
              "        google.colab.kernel.accessAllowed ? 'block' : 'none';\n",
              "\n",
              "      async function convertToInteractive(key) {\n",
              "        const element = document.querySelector('#df-772796e2-3904-4fec-9f9f-e943f815fb5e');\n",
              "        const dataTable =\n",
              "          await google.colab.kernel.invokeFunction('convertToInteractive',\n",
              "                                                    [key], {});\n",
              "        if (!dataTable) return;\n",
              "\n",
              "        const docLinkHtml = 'Like what you see? Visit the ' +\n",
              "          '<a target=\"_blank\" href=https://colab.research.google.com/notebooks/data_table.ipynb>data table notebook</a>'\n",
              "          + ' to learn more about interactive tables.';\n",
              "        element.innerHTML = '';\n",
              "        dataTable['output_type'] = 'display_data';\n",
              "        await google.colab.output.renderOutput(dataTable, element);\n",
              "        const docLink = document.createElement('div');\n",
              "        docLink.innerHTML = docLinkHtml;\n",
              "        element.appendChild(docLink);\n",
              "      }\n",
              "    </script>\n",
              "  </div>\n",
              "\n",
              "\n",
              "<div id=\"df-5a4376fb-3880-40c1-9d62-cd016f671719\">\n",
              "  <button class=\"colab-df-quickchart\" onclick=\"quickchart('df-5a4376fb-3880-40c1-9d62-cd016f671719')\"\n",
              "            title=\"Suggest charts\"\n",
              "            style=\"display:none;\">\n",
              "\n",
              "<svg xmlns=\"http://www.w3.org/2000/svg\" height=\"24px\"viewBox=\"0 0 24 24\"\n",
              "     width=\"24px\">\n",
              "    <g>\n",
              "        <path d=\"M19 3H5c-1.1 0-2 .9-2 2v14c0 1.1.9 2 2 2h14c1.1 0 2-.9 2-2V5c0-1.1-.9-2-2-2zM9 17H7v-7h2v7zm4 0h-2V7h2v10zm4 0h-2v-4h2v4z\"/>\n",
              "    </g>\n",
              "</svg>\n",
              "  </button>\n",
              "\n",
              "<style>\n",
              "  .colab-df-quickchart {\n",
              "      --bg-color: #E8F0FE;\n",
              "      --fill-color: #1967D2;\n",
              "      --hover-bg-color: #E2EBFA;\n",
              "      --hover-fill-color: #174EA6;\n",
              "      --disabled-fill-color: #AAA;\n",
              "      --disabled-bg-color: #DDD;\n",
              "  }\n",
              "\n",
              "  [theme=dark] .colab-df-quickchart {\n",
              "      --bg-color: #3B4455;\n",
              "      --fill-color: #D2E3FC;\n",
              "      --hover-bg-color: #434B5C;\n",
              "      --hover-fill-color: #FFFFFF;\n",
              "      --disabled-bg-color: #3B4455;\n",
              "      --disabled-fill-color: #666;\n",
              "  }\n",
              "\n",
              "  .colab-df-quickchart {\n",
              "    background-color: var(--bg-color);\n",
              "    border: none;\n",
              "    border-radius: 50%;\n",
              "    cursor: pointer;\n",
              "    display: none;\n",
              "    fill: var(--fill-color);\n",
              "    height: 32px;\n",
              "    padding: 0;\n",
              "    width: 32px;\n",
              "  }\n",
              "\n",
              "  .colab-df-quickchart:hover {\n",
              "    background-color: var(--hover-bg-color);\n",
              "    box-shadow: 0 1px 2px rgba(60, 64, 67, 0.3), 0 1px 3px 1px rgba(60, 64, 67, 0.15);\n",
              "    fill: var(--button-hover-fill-color);\n",
              "  }\n",
              "\n",
              "  .colab-df-quickchart-complete:disabled,\n",
              "  .colab-df-quickchart-complete:disabled:hover {\n",
              "    background-color: var(--disabled-bg-color);\n",
              "    fill: var(--disabled-fill-color);\n",
              "    box-shadow: none;\n",
              "  }\n",
              "\n",
              "  .colab-df-spinner {\n",
              "    border: 2px solid var(--fill-color);\n",
              "    border-color: transparent;\n",
              "    border-bottom-color: var(--fill-color);\n",
              "    animation:\n",
              "      spin 1s steps(1) infinite;\n",
              "  }\n",
              "\n",
              "  @keyframes spin {\n",
              "    0% {\n",
              "      border-color: transparent;\n",
              "      border-bottom-color: var(--fill-color);\n",
              "      border-left-color: var(--fill-color);\n",
              "    }\n",
              "    20% {\n",
              "      border-color: transparent;\n",
              "      border-left-color: var(--fill-color);\n",
              "      border-top-color: var(--fill-color);\n",
              "    }\n",
              "    30% {\n",
              "      border-color: transparent;\n",
              "      border-left-color: var(--fill-color);\n",
              "      border-top-color: var(--fill-color);\n",
              "      border-right-color: var(--fill-color);\n",
              "    }\n",
              "    40% {\n",
              "      border-color: transparent;\n",
              "      border-right-color: var(--fill-color);\n",
              "      border-top-color: var(--fill-color);\n",
              "    }\n",
              "    60% {\n",
              "      border-color: transparent;\n",
              "      border-right-color: var(--fill-color);\n",
              "    }\n",
              "    80% {\n",
              "      border-color: transparent;\n",
              "      border-right-color: var(--fill-color);\n",
              "      border-bottom-color: var(--fill-color);\n",
              "    }\n",
              "    90% {\n",
              "      border-color: transparent;\n",
              "      border-bottom-color: var(--fill-color);\n",
              "    }\n",
              "  }\n",
              "</style>\n",
              "\n",
              "  <script>\n",
              "    async function quickchart(key) {\n",
              "      const quickchartButtonEl =\n",
              "        document.querySelector('#' + key + ' button');\n",
              "      quickchartButtonEl.disabled = true;  // To prevent multiple clicks.\n",
              "      quickchartButtonEl.classList.add('colab-df-spinner');\n",
              "      try {\n",
              "        const charts = await google.colab.kernel.invokeFunction(\n",
              "            'suggestCharts', [key], {});\n",
              "      } catch (error) {\n",
              "        console.error('Error during call to suggestCharts:', error);\n",
              "      }\n",
              "      quickchartButtonEl.classList.remove('colab-df-spinner');\n",
              "      quickchartButtonEl.classList.add('colab-df-quickchart-complete');\n",
              "    }\n",
              "    (() => {\n",
              "      let quickchartButtonEl =\n",
              "        document.querySelector('#df-5a4376fb-3880-40c1-9d62-cd016f671719 button');\n",
              "      quickchartButtonEl.style.display =\n",
              "        google.colab.kernel.accessAllowed ? 'block' : 'none';\n",
              "    })();\n",
              "  </script>\n",
              "</div>\n",
              "    </div>\n",
              "  </div>\n"
            ]
          },
          "metadata": {},
          "execution_count": 47
        }
      ]
    },
    {
      "cell_type": "markdown",
      "source": [
        "Check all type of channels"
      ],
      "metadata": {
        "id": "fcJv3pVTNIMt"
      }
    },
    {
      "cell_type": "code",
      "execution_count": 34,
      "metadata": {
        "id": "_NEaGF6IE2RT"
      },
      "outputs": [],
      "source": [
        "channels =[]\n",
        "for p in portfolio:\n",
        "    for lst in (p[\"channels\"]):\n",
        "        channels.append(lst)\n",
        "channels=set(channels)\n"
      ]
    },
    {
      "cell_type": "code",
      "execution_count": 35,
      "metadata": {
        "colab": {
          "base_uri": "https://localhost:8080/"
        },
        "id": "Vb0djSB0E2RU",
        "outputId": "2f9fa611-0c33-4ac0-f2d1-0e912eef9d7a"
      },
      "outputs": [
        {
          "output_type": "execute_result",
          "data": {
            "text/plain": [
              "{'email', 'mobile', 'social', 'web'}"
            ]
          },
          "metadata": {},
          "execution_count": 35
        }
      ],
      "source": [
        "channels # all type of channels"
      ]
    },
    {
      "cell_type": "markdown",
      "metadata": {
        "id": "VKInvr8TE2RU"
      },
      "source": [
        "Will we make dummy variables for email, mobile, social and web?"
      ]
    },
    {
      "cell_type": "code",
      "execution_count": null,
      "metadata": {
        "id": "2MKB9kZIE2RU"
      },
      "outputs": [],
      "source": [
        "# investigate profile.json\n",
        "!wget https://raw.githubusercontent.com/MarkMData/DABI_project/main/profile.json"
      ]
    },
    {
      "cell_type": "code",
      "execution_count": 50,
      "metadata": {
        "id": "bvcJhyqNE2RU"
      },
      "outputs": [],
      "source": [
        "profile = []\n",
        "with open('profile.json') as f:\n",
        "    for line in f:\n",
        "        profile.append(json.loads(line))"
      ]
    },
    {
      "cell_type": "code",
      "execution_count": 53,
      "metadata": {
        "colab": {
          "base_uri": "https://localhost:8080/"
        },
        "id": "8yM0m69OE2RV",
        "outputId": "6e162cc8-ab5f-4564-9578-9295e01dda30"
      },
      "outputs": [
        {
          "output_type": "execute_result",
          "data": {
            "text/plain": [
              "{'gender': None,\n",
              " 'age': 118,\n",
              " 'id': '68be06ca386d4c31939f3a4f0e3dd783',\n",
              " 'became_member_on': '20170212',\n",
              " 'income': None}"
            ]
          },
          "metadata": {},
          "execution_count": 53
        }
      ],
      "source": [
        "profile[0]"
      ]
    },
    {
      "cell_type": "code",
      "execution_count": 54,
      "metadata": {
        "colab": {
          "base_uri": "https://localhost:8080/"
        },
        "id": "L9dDKq5vE2RV",
        "outputId": "5c72a1e2-23e3-42fd-f0c1-635c4b052681"
      },
      "outputs": [
        {
          "output_type": "execute_result",
          "data": {
            "text/plain": [
              "{'gender': 'F',\n",
              " 'age': 55,\n",
              " 'id': '0610b486422d4921ae7d2bf64640c50b',\n",
              " 'became_member_on': '20170715',\n",
              " 'income': 112000}"
            ]
          },
          "metadata": {},
          "execution_count": 54
        }
      ],
      "source": [
        "profile[1]"
      ]
    },
    {
      "cell_type": "code",
      "execution_count": 55,
      "metadata": {
        "colab": {
          "base_uri": "https://localhost:8080/"
        },
        "id": "6kPRScGTE2RV",
        "outputId": "530f5fcc-5a94-4c1c-a07a-887086fd19c3"
      },
      "outputs": [
        {
          "output_type": "execute_result",
          "data": {
            "text/plain": [
              "17000"
            ]
          },
          "metadata": {},
          "execution_count": 55
        }
      ],
      "source": [
        "len(profile)"
      ]
    },
    {
      "cell_type": "code",
      "source": [
        "# creating profile df\n",
        "profile_df = pd.DataFrame({\n",
        "    'gender': [p[\"gender\"] for p in profile],\n",
        "    'age': [p[\"age\"] for p in profile],\n",
        "    'id': [p[\"id\"] for p in profile],\n",
        "    'became_member_on': [p[\"became_member_on\"] for p in profile],\n",
        "    'income': [p[\"income\"] for p in profile]\n",
        "})"
      ],
      "metadata": {
        "id": "ZKU55-SHQunn"
      },
      "execution_count": 56,
      "outputs": []
    },
    {
      "cell_type": "code",
      "source": [
        "profile_df"
      ],
      "metadata": {
        "id": "-wBBPi6sRezy"
      },
      "execution_count": null,
      "outputs": []
    },
    {
      "cell_type": "code",
      "execution_count": null,
      "metadata": {
        "id": "BM5mxOrOE2RV"
      },
      "outputs": [],
      "source": [
        "##################\n",
        "# investigate transcript data\n",
        "# transcript can be used to merge with other two datasets.\n",
        "!wget https://raw.githubusercontent.com/MarkMData/DABI_project/main/transcript.json"
      ]
    },
    {
      "cell_type": "code",
      "execution_count": 59,
      "metadata": {
        "id": "n7cxVeNPE2RV"
      },
      "outputs": [],
      "source": [
        "transcript = []\n",
        "with open('transcript.json') as f:\n",
        "    for line in f:\n",
        "        transcript.append(json.loads(line))"
      ]
    },
    {
      "cell_type": "code",
      "execution_count": 60,
      "metadata": {
        "colab": {
          "base_uri": "https://localhost:8080/"
        },
        "id": "MrkwY1a0E2RV",
        "outputId": "4c2541d9-f424-4188-da35-a1a8273f8b92"
      },
      "outputs": [
        {
          "output_type": "execute_result",
          "data": {
            "text/plain": [
              "{'person': '78afa995795e4d85b5d9ceeca43f5fef',\n",
              " 'event': 'offer received',\n",
              " 'value': {'offer id': '9b98b8c7a33c4b65b9aebfe6a799e6d9'},\n",
              " 'time': 0}"
            ]
          },
          "metadata": {},
          "execution_count": 60
        }
      ],
      "source": [
        "transcript[0]"
      ]
    },
    {
      "cell_type": "code",
      "execution_count": 61,
      "metadata": {
        "colab": {
          "base_uri": "https://localhost:8080/"
        },
        "id": "IofnS-1CE2RW",
        "outputId": "d1de72e2-a5bf-4192-e39f-cec519c9d033"
      },
      "outputs": [
        {
          "output_type": "execute_result",
          "data": {
            "text/plain": [
              "{'person': 'fda2862641d74e19ba0a249a0e3a83f3',\n",
              " 'event': 'offer received',\n",
              " 'value': {'offer id': 'f19421c1d4aa40978ebb69ca19b0e20d'},\n",
              " 'time': 0}"
            ]
          },
          "metadata": {},
          "execution_count": 61
        }
      ],
      "source": [
        "transcript[1500]"
      ]
    },
    {
      "cell_type": "code",
      "execution_count": 62,
      "metadata": {
        "colab": {
          "base_uri": "https://localhost:8080/"
        },
        "id": "hpirX27rE2RW",
        "outputId": "bd540bcf-b521-4a5a-82f2-b36314250905"
      },
      "outputs": [
        {
          "output_type": "execute_result",
          "data": {
            "text/plain": [
              "306534"
            ]
          },
          "metadata": {},
          "execution_count": 62
        }
      ],
      "source": [
        "len(transcript)"
      ]
    },
    {
      "cell_type": "code",
      "execution_count": 63,
      "metadata": {
        "id": "nYtCNk4oE2RW"
      },
      "outputs": [],
      "source": [
        "# creating transcript dataframe\n",
        "transcript_df = pd.DataFrame({\n",
        "    'person': [p[\"person\"] for p in transcript],\n",
        "    'event': [p[\"event\"] for p in transcript],\n",
        "    'value': [p[\"value\"] for p in transcript],\n",
        "    'time': [p[\"time\"] for p in transcript]\n",
        "})"
      ]
    },
    {
      "cell_type": "code",
      "source": [
        "transcript_df"
      ],
      "metadata": {
        "colab": {
          "base_uri": "https://localhost:8080/",
          "height": 423
        },
        "id": "JXfG6PgaTjii",
        "outputId": "ee4de311-0f39-4e3f-e3c1-e7de7e597d6f"
      },
      "execution_count": 69,
      "outputs": [
        {
          "output_type": "execute_result",
          "data": {
            "text/plain": [
              "                                  person           event  \\\n",
              "0       78afa995795e4d85b5d9ceeca43f5fef  offer received   \n",
              "1       a03223e636434f42ac4c3df47e8bac43  offer received   \n",
              "2       e2127556f4f64592b11af22de27a7932  offer received   \n",
              "3       8ec6ce2a7e7949b1bf142def7d0e0586  offer received   \n",
              "4       68617ca6246f4fbc85e91a2a49552598  offer received   \n",
              "...                                  ...             ...   \n",
              "306529  b3a1272bc9904337b331bf348c3e8c17     transaction   \n",
              "306530  68213b08d99a4ae1b0dcb72aebd9aa35     transaction   \n",
              "306531  a00058cf10334a308c68e7631c529907     transaction   \n",
              "306532  76ddbd6576844afe811f1a3c0fbb5bec     transaction   \n",
              "306533  c02b10e8752c4d8e9b73f918558531f7     transaction   \n",
              "\n",
              "                                                   value  time  \n",
              "0       {'offer id': '9b98b8c7a33c4b65b9aebfe6a799e6d9'}     0  \n",
              "1       {'offer id': '0b1e1539f2cc45b7b9fa7c272da2e1d7'}     0  \n",
              "2       {'offer id': '2906b810c7d4411798c6938adc9daaa5'}     0  \n",
              "3       {'offer id': 'fafdcd668e3743c1bb461111dcafc2a4'}     0  \n",
              "4       {'offer id': '4d5c57ea9a6940dd891ad53e9dbe8da0'}     0  \n",
              "...                                                  ...   ...  \n",
              "306529                                  {'amount': 1.59}   714  \n",
              "306530                                  {'amount': 9.53}   714  \n",
              "306531                                  {'amount': 3.61}   714  \n",
              "306532                                  {'amount': 3.53}   714  \n",
              "306533                                  {'amount': 4.05}   714  \n",
              "\n",
              "[306534 rows x 4 columns]"
            ],
            "text/html": [
              "\n",
              "  <div id=\"df-4e8cb7f7-5dd7-49dd-b2f4-54b0b2303b41\" class=\"colab-df-container\">\n",
              "    <div>\n",
              "<style scoped>\n",
              "    .dataframe tbody tr th:only-of-type {\n",
              "        vertical-align: middle;\n",
              "    }\n",
              "\n",
              "    .dataframe tbody tr th {\n",
              "        vertical-align: top;\n",
              "    }\n",
              "\n",
              "    .dataframe thead th {\n",
              "        text-align: right;\n",
              "    }\n",
              "</style>\n",
              "<table border=\"1\" class=\"dataframe\">\n",
              "  <thead>\n",
              "    <tr style=\"text-align: right;\">\n",
              "      <th></th>\n",
              "      <th>person</th>\n",
              "      <th>event</th>\n",
              "      <th>value</th>\n",
              "      <th>time</th>\n",
              "    </tr>\n",
              "  </thead>\n",
              "  <tbody>\n",
              "    <tr>\n",
              "      <th>0</th>\n",
              "      <td>78afa995795e4d85b5d9ceeca43f5fef</td>\n",
              "      <td>offer received</td>\n",
              "      <td>{'offer id': '9b98b8c7a33c4b65b9aebfe6a799e6d9'}</td>\n",
              "      <td>0</td>\n",
              "    </tr>\n",
              "    <tr>\n",
              "      <th>1</th>\n",
              "      <td>a03223e636434f42ac4c3df47e8bac43</td>\n",
              "      <td>offer received</td>\n",
              "      <td>{'offer id': '0b1e1539f2cc45b7b9fa7c272da2e1d7'}</td>\n",
              "      <td>0</td>\n",
              "    </tr>\n",
              "    <tr>\n",
              "      <th>2</th>\n",
              "      <td>e2127556f4f64592b11af22de27a7932</td>\n",
              "      <td>offer received</td>\n",
              "      <td>{'offer id': '2906b810c7d4411798c6938adc9daaa5'}</td>\n",
              "      <td>0</td>\n",
              "    </tr>\n",
              "    <tr>\n",
              "      <th>3</th>\n",
              "      <td>8ec6ce2a7e7949b1bf142def7d0e0586</td>\n",
              "      <td>offer received</td>\n",
              "      <td>{'offer id': 'fafdcd668e3743c1bb461111dcafc2a4'}</td>\n",
              "      <td>0</td>\n",
              "    </tr>\n",
              "    <tr>\n",
              "      <th>4</th>\n",
              "      <td>68617ca6246f4fbc85e91a2a49552598</td>\n",
              "      <td>offer received</td>\n",
              "      <td>{'offer id': '4d5c57ea9a6940dd891ad53e9dbe8da0'}</td>\n",
              "      <td>0</td>\n",
              "    </tr>\n",
              "    <tr>\n",
              "      <th>...</th>\n",
              "      <td>...</td>\n",
              "      <td>...</td>\n",
              "      <td>...</td>\n",
              "      <td>...</td>\n",
              "    </tr>\n",
              "    <tr>\n",
              "      <th>306529</th>\n",
              "      <td>b3a1272bc9904337b331bf348c3e8c17</td>\n",
              "      <td>transaction</td>\n",
              "      <td>{'amount': 1.59}</td>\n",
              "      <td>714</td>\n",
              "    </tr>\n",
              "    <tr>\n",
              "      <th>306530</th>\n",
              "      <td>68213b08d99a4ae1b0dcb72aebd9aa35</td>\n",
              "      <td>transaction</td>\n",
              "      <td>{'amount': 9.53}</td>\n",
              "      <td>714</td>\n",
              "    </tr>\n",
              "    <tr>\n",
              "      <th>306531</th>\n",
              "      <td>a00058cf10334a308c68e7631c529907</td>\n",
              "      <td>transaction</td>\n",
              "      <td>{'amount': 3.61}</td>\n",
              "      <td>714</td>\n",
              "    </tr>\n",
              "    <tr>\n",
              "      <th>306532</th>\n",
              "      <td>76ddbd6576844afe811f1a3c0fbb5bec</td>\n",
              "      <td>transaction</td>\n",
              "      <td>{'amount': 3.53}</td>\n",
              "      <td>714</td>\n",
              "    </tr>\n",
              "    <tr>\n",
              "      <th>306533</th>\n",
              "      <td>c02b10e8752c4d8e9b73f918558531f7</td>\n",
              "      <td>transaction</td>\n",
              "      <td>{'amount': 4.05}</td>\n",
              "      <td>714</td>\n",
              "    </tr>\n",
              "  </tbody>\n",
              "</table>\n",
              "<p>306534 rows × 4 columns</p>\n",
              "</div>\n",
              "    <div class=\"colab-df-buttons\">\n",
              "\n",
              "  <div class=\"colab-df-container\">\n",
              "    <button class=\"colab-df-convert\" onclick=\"convertToInteractive('df-4e8cb7f7-5dd7-49dd-b2f4-54b0b2303b41')\"\n",
              "            title=\"Convert this dataframe to an interactive table.\"\n",
              "            style=\"display:none;\">\n",
              "\n",
              "  <svg xmlns=\"http://www.w3.org/2000/svg\" height=\"24px\" viewBox=\"0 -960 960 960\">\n",
              "    <path d=\"M120-120v-720h720v720H120Zm60-500h600v-160H180v160Zm220 220h160v-160H400v160Zm0 220h160v-160H400v160ZM180-400h160v-160H180v160Zm440 0h160v-160H620v160ZM180-180h160v-160H180v160Zm440 0h160v-160H620v160Z\"/>\n",
              "  </svg>\n",
              "    </button>\n",
              "\n",
              "  <style>\n",
              "    .colab-df-container {\n",
              "      display:flex;\n",
              "      gap: 12px;\n",
              "    }\n",
              "\n",
              "    .colab-df-convert {\n",
              "      background-color: #E8F0FE;\n",
              "      border: none;\n",
              "      border-radius: 50%;\n",
              "      cursor: pointer;\n",
              "      display: none;\n",
              "      fill: #1967D2;\n",
              "      height: 32px;\n",
              "      padding: 0 0 0 0;\n",
              "      width: 32px;\n",
              "    }\n",
              "\n",
              "    .colab-df-convert:hover {\n",
              "      background-color: #E2EBFA;\n",
              "      box-shadow: 0px 1px 2px rgba(60, 64, 67, 0.3), 0px 1px 3px 1px rgba(60, 64, 67, 0.15);\n",
              "      fill: #174EA6;\n",
              "    }\n",
              "\n",
              "    .colab-df-buttons div {\n",
              "      margin-bottom: 4px;\n",
              "    }\n",
              "\n",
              "    [theme=dark] .colab-df-convert {\n",
              "      background-color: #3B4455;\n",
              "      fill: #D2E3FC;\n",
              "    }\n",
              "\n",
              "    [theme=dark] .colab-df-convert:hover {\n",
              "      background-color: #434B5C;\n",
              "      box-shadow: 0px 1px 3px 1px rgba(0, 0, 0, 0.15);\n",
              "      filter: drop-shadow(0px 1px 2px rgba(0, 0, 0, 0.3));\n",
              "      fill: #FFFFFF;\n",
              "    }\n",
              "  </style>\n",
              "\n",
              "    <script>\n",
              "      const buttonEl =\n",
              "        document.querySelector('#df-4e8cb7f7-5dd7-49dd-b2f4-54b0b2303b41 button.colab-df-convert');\n",
              "      buttonEl.style.display =\n",
              "        google.colab.kernel.accessAllowed ? 'block' : 'none';\n",
              "\n",
              "      async function convertToInteractive(key) {\n",
              "        const element = document.querySelector('#df-4e8cb7f7-5dd7-49dd-b2f4-54b0b2303b41');\n",
              "        const dataTable =\n",
              "          await google.colab.kernel.invokeFunction('convertToInteractive',\n",
              "                                                    [key], {});\n",
              "        if (!dataTable) return;\n",
              "\n",
              "        const docLinkHtml = 'Like what you see? Visit the ' +\n",
              "          '<a target=\"_blank\" href=https://colab.research.google.com/notebooks/data_table.ipynb>data table notebook</a>'\n",
              "          + ' to learn more about interactive tables.';\n",
              "        element.innerHTML = '';\n",
              "        dataTable['output_type'] = 'display_data';\n",
              "        await google.colab.output.renderOutput(dataTable, element);\n",
              "        const docLink = document.createElement('div');\n",
              "        docLink.innerHTML = docLinkHtml;\n",
              "        element.appendChild(docLink);\n",
              "      }\n",
              "    </script>\n",
              "  </div>\n",
              "\n",
              "\n",
              "<div id=\"df-67d81e08-1ba3-468a-ad41-cced7620287b\">\n",
              "  <button class=\"colab-df-quickchart\" onclick=\"quickchart('df-67d81e08-1ba3-468a-ad41-cced7620287b')\"\n",
              "            title=\"Suggest charts\"\n",
              "            style=\"display:none;\">\n",
              "\n",
              "<svg xmlns=\"http://www.w3.org/2000/svg\" height=\"24px\"viewBox=\"0 0 24 24\"\n",
              "     width=\"24px\">\n",
              "    <g>\n",
              "        <path d=\"M19 3H5c-1.1 0-2 .9-2 2v14c0 1.1.9 2 2 2h14c1.1 0 2-.9 2-2V5c0-1.1-.9-2-2-2zM9 17H7v-7h2v7zm4 0h-2V7h2v10zm4 0h-2v-4h2v4z\"/>\n",
              "    </g>\n",
              "</svg>\n",
              "  </button>\n",
              "\n",
              "<style>\n",
              "  .colab-df-quickchart {\n",
              "      --bg-color: #E8F0FE;\n",
              "      --fill-color: #1967D2;\n",
              "      --hover-bg-color: #E2EBFA;\n",
              "      --hover-fill-color: #174EA6;\n",
              "      --disabled-fill-color: #AAA;\n",
              "      --disabled-bg-color: #DDD;\n",
              "  }\n",
              "\n",
              "  [theme=dark] .colab-df-quickchart {\n",
              "      --bg-color: #3B4455;\n",
              "      --fill-color: #D2E3FC;\n",
              "      --hover-bg-color: #434B5C;\n",
              "      --hover-fill-color: #FFFFFF;\n",
              "      --disabled-bg-color: #3B4455;\n",
              "      --disabled-fill-color: #666;\n",
              "  }\n",
              "\n",
              "  .colab-df-quickchart {\n",
              "    background-color: var(--bg-color);\n",
              "    border: none;\n",
              "    border-radius: 50%;\n",
              "    cursor: pointer;\n",
              "    display: none;\n",
              "    fill: var(--fill-color);\n",
              "    height: 32px;\n",
              "    padding: 0;\n",
              "    width: 32px;\n",
              "  }\n",
              "\n",
              "  .colab-df-quickchart:hover {\n",
              "    background-color: var(--hover-bg-color);\n",
              "    box-shadow: 0 1px 2px rgba(60, 64, 67, 0.3), 0 1px 3px 1px rgba(60, 64, 67, 0.15);\n",
              "    fill: var(--button-hover-fill-color);\n",
              "  }\n",
              "\n",
              "  .colab-df-quickchart-complete:disabled,\n",
              "  .colab-df-quickchart-complete:disabled:hover {\n",
              "    background-color: var(--disabled-bg-color);\n",
              "    fill: var(--disabled-fill-color);\n",
              "    box-shadow: none;\n",
              "  }\n",
              "\n",
              "  .colab-df-spinner {\n",
              "    border: 2px solid var(--fill-color);\n",
              "    border-color: transparent;\n",
              "    border-bottom-color: var(--fill-color);\n",
              "    animation:\n",
              "      spin 1s steps(1) infinite;\n",
              "  }\n",
              "\n",
              "  @keyframes spin {\n",
              "    0% {\n",
              "      border-color: transparent;\n",
              "      border-bottom-color: var(--fill-color);\n",
              "      border-left-color: var(--fill-color);\n",
              "    }\n",
              "    20% {\n",
              "      border-color: transparent;\n",
              "      border-left-color: var(--fill-color);\n",
              "      border-top-color: var(--fill-color);\n",
              "    }\n",
              "    30% {\n",
              "      border-color: transparent;\n",
              "      border-left-color: var(--fill-color);\n",
              "      border-top-color: var(--fill-color);\n",
              "      border-right-color: var(--fill-color);\n",
              "    }\n",
              "    40% {\n",
              "      border-color: transparent;\n",
              "      border-right-color: var(--fill-color);\n",
              "      border-top-color: var(--fill-color);\n",
              "    }\n",
              "    60% {\n",
              "      border-color: transparent;\n",
              "      border-right-color: var(--fill-color);\n",
              "    }\n",
              "    80% {\n",
              "      border-color: transparent;\n",
              "      border-right-color: var(--fill-color);\n",
              "      border-bottom-color: var(--fill-color);\n",
              "    }\n",
              "    90% {\n",
              "      border-color: transparent;\n",
              "      border-bottom-color: var(--fill-color);\n",
              "    }\n",
              "  }\n",
              "</style>\n",
              "\n",
              "  <script>\n",
              "    async function quickchart(key) {\n",
              "      const quickchartButtonEl =\n",
              "        document.querySelector('#' + key + ' button');\n",
              "      quickchartButtonEl.disabled = true;  // To prevent multiple clicks.\n",
              "      quickchartButtonEl.classList.add('colab-df-spinner');\n",
              "      try {\n",
              "        const charts = await google.colab.kernel.invokeFunction(\n",
              "            'suggestCharts', [key], {});\n",
              "      } catch (error) {\n",
              "        console.error('Error during call to suggestCharts:', error);\n",
              "      }\n",
              "      quickchartButtonEl.classList.remove('colab-df-spinner');\n",
              "      quickchartButtonEl.classList.add('colab-df-quickchart-complete');\n",
              "    }\n",
              "    (() => {\n",
              "      let quickchartButtonEl =\n",
              "        document.querySelector('#df-67d81e08-1ba3-468a-ad41-cced7620287b button');\n",
              "      quickchartButtonEl.style.display =\n",
              "        google.colab.kernel.accessAllowed ? 'block' : 'none';\n",
              "    })();\n",
              "  </script>\n",
              "</div>\n",
              "    </div>\n",
              "  </div>\n"
            ]
          },
          "metadata": {},
          "execution_count": 69
        }
      ]
    },
    {
      "cell_type": "code",
      "source": [
        "transcript_df['event'].unique()"
      ],
      "metadata": {
        "colab": {
          "base_uri": "https://localhost:8080/"
        },
        "id": "yNOek1pNSL78",
        "outputId": "28a62190-89b4-45c9-b399-4cf02b14cc9a"
      },
      "execution_count": 71,
      "outputs": [
        {
          "output_type": "execute_result",
          "data": {
            "text/plain": [
              "array(['offer received', 'offer viewed', 'transaction', 'offer completed'],\n",
              "      dtype=object)"
            ]
          },
          "metadata": {},
          "execution_count": 71
        }
      ]
    }
  ],
  "metadata": {
    "kernelspec": {
      "display_name": "Python 3",
      "language": "python",
      "name": "python3"
    },
    "language_info": {
      "codemirror_mode": {
        "name": "ipython",
        "version": 3
      },
      "file_extension": ".py",
      "mimetype": "text/x-python",
      "name": "python",
      "nbconvert_exporter": "python",
      "pygments_lexer": "ipython3",
      "version": "3.8.3"
    },
    "colab": {
      "provenance": []
    }
  },
  "nbformat": 4,
  "nbformat_minor": 0
}